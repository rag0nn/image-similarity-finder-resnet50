{
 "cells": [
  {
   "cell_type": "code",
   "execution_count": 38,
   "id": "4df886ca",
   "metadata": {},
   "outputs": [],
   "source": [
    "from tensorflow.keras import applications as app"
   ]
  },
  {
   "cell_type": "code",
   "execution_count": 58,
   "id": "8ef594d6",
   "metadata": {},
   "outputs": [],
   "source": [
    "## resnet modelini içeri aktaralım\n",
    "resnet = tf.keras.applications.resnet50.ResNet50(\n",
    "    include_top=True,\n",
    "    weights='imagenet',\n",
    "    input_tensor=None,\n",
    "    input_shape=None,\n",
    "    pooling=None,\n",
    "    classes=1000,)"
   ]
  },
  {
   "cell_type": "code",
   "execution_count": 59,
   "id": "250d423d",
   "metadata": {},
   "outputs": [],
   "source": [
    "import tensorflow as tf"
   ]
  },
  {
   "cell_type": "code",
   "execution_count": 60,
   "id": "9558c810",
   "metadata": {},
   "outputs": [],
   "source": [
    "from tensorflow.keras.models import Sequential"
   ]
  },
  {
   "cell_type": "code",
   "execution_count": 61,
   "id": "6f7f54e0",
   "metadata": {},
   "outputs": [],
   "source": [
    "from tensorflow.keras.layers import Conv2D, MaxPooling2D, Dropout, Input, Dense"
   ]
  },
  {
   "cell_type": "code",
   "execution_count": 245,
   "id": "bedc0d3e",
   "metadata": {},
   "outputs": [],
   "source": [
    "import cv2\n",
    "import numpy as np\n",
    "import math\n",
    "import pandas as pd"
   ]
  },
  {
   "cell_type": "code",
   "execution_count": 62,
   "id": "fe6f3648",
   "metadata": {},
   "outputs": [],
   "source": [
    "model = Sequential()"
   ]
  },
  {
   "cell_type": "code",
   "execution_count": 63,
   "id": "372193a1",
   "metadata": {},
   "outputs": [],
   "source": [
    "model.add(resnet)"
   ]
  },
  {
   "cell_type": "code",
   "execution_count": 64,
   "id": "7d9e623d",
   "metadata": {},
   "outputs": [],
   "source": [
    "model.add(Dense(10))"
   ]
  },
  {
   "cell_type": "code",
   "execution_count": 65,
   "id": "607798e4",
   "metadata": {},
   "outputs": [
    {
     "name": "stdout",
     "output_type": "stream",
     "text": [
      "Model: \"sequential_3\"\n",
      "_________________________________________________________________\n",
      " Layer (type)                Output Shape              Param #   \n",
      "=================================================================\n",
      " resnet50 (Functional)       (None, 1000)              25636712  \n",
      "                                                                 \n",
      " dense (Dense)               (None, 10)                10010     \n",
      "                                                                 \n",
      "=================================================================\n",
      "Total params: 25,646,722\n",
      "Trainable params: 25,593,602\n",
      "Non-trainable params: 53,120\n",
      "_________________________________________________________________\n"
     ]
    }
   ],
   "source": [
    "model.summary()"
   ]
  },
  {
   "cell_type": "code",
   "execution_count": 172,
   "id": "c82ea441",
   "metadata": {},
   "outputs": [],
   "source": []
  },
  {
   "cell_type": "code",
   "execution_count": 150,
   "id": "b45e7d15",
   "metadata": {},
   "outputs": [],
   "source": [
    "def get_im(im_path:str)->list:\n",
    "    \"\"\"Verilen imaj yolundan imajı okur ve resnet için uygun hale getirir.\n",
    "    \n",
    "    Args:\n",
    "        im_path (str): İmajın yolu\n",
    "        \n",
    "    Returns:\n",
    "        list: işlenmiş imajın liste hali\n",
    "    \n",
    "    \"\"\"\n",
    "    im = cv2.imread(im_path)\n",
    "    im = cv2.resize(im,dsize=(224,224))\n",
    "    im = np.reshape(im,newshape=(1,224,224,3))\n",
    "    return im"
   ]
  },
  {
   "cell_type": "code",
   "execution_count": 151,
   "id": "0f9bf0a6",
   "metadata": {},
   "outputs": [],
   "source": [
    "def get_results(im):\n",
    "    \"\"\"liste halindeki imajı resnet modeline vererek tahmin edilmiş vektörel değerleri döndürür.\n",
    "    \n",
    "    Args:\n",
    "        im(numpy array) :  imajın numpy array hali\n",
    "        \n",
    "    Returns:\n",
    "        list: imajın tahmin edilmiş vektörü\n",
    "\n",
    "    \"\"\"\n",
    "    res = model(im)\n",
    "    return tuple(res[0].numpy().tolist())"
   ]
  },
  {
   "cell_type": "code",
   "execution_count": 272,
   "id": "4a4565c3",
   "metadata": {},
   "outputs": [],
   "source": [
    "def find_similarity(vectors):\n",
    "    \"\"\"Verilen iki vektörize edilmiş görselin arasındaki öklid mesafesini hesaplar ve benzerliğe dönüştürür\n",
    "    \n",
    "    Args:\n",
    "        vectors(list(tuple)) : imaj vektörlerinin listesi \n",
    "    \n",
    "    \"\"\"\n",
    "    for i in range(len(vectors)):\n",
    "        for j in range(len(vectors)):\n",
    "            yield i,j,1-math.dist(vectors[i],vectors[j])"
   ]
  },
  {
   "cell_type": "code",
   "execution_count": 283,
   "id": "b6d539f9",
   "metadata": {},
   "outputs": [],
   "source": [
    "def process(im_paths:list):\n",
    "    \"\"\"\n",
    "        imaj yollarını alır ve işlemlere tabi tutarak aralarındaki matematiksel mesafeyi hesaplar\n",
    "        \n",
    "        Args:\n",
    "            im_paths(list): imajların yol listesi\n",
    "        \n",
    "        Calculations:\n",
    "            Tahmin için Resnet50 kullanılır,\n",
    "            Mesafe hesaplaması için Öklid mesafesi kullanılır.\n",
    "    \"\"\"\n",
    "    \n",
    "   \n",
    "    yazi_format = lambda text: text.split(\".\")[0]\n",
    "    ozel_yazdir = lambda res: print(\n",
    "        \"görseller: \", \n",
    "        yazi_format(im_paths[res[0]]),\n",
    "        \"-\",\n",
    "        yazi_format( im_paths[res[1]])\n",
    "        ,\"   mesafe:\",res[2])\n",
    "    \n",
    "    predicted_vectors = []\n",
    "    \n",
    "    for path in im_paths:\n",
    "        im = get_im(path)\n",
    "        predicted_vectors.append(get_results(im))\n",
    "\n",
    "    calculated = find_similarity(predicted_vectors)\n",
    "\n",
    "    \n",
    "    \n",
    "    matrix = np.ones(shape=(len(im_paths),len(im_paths)))\n",
    "    \n",
    "    for result in calculated:\n",
    "        ozel_yazdir(result)\n",
    "        matrix[result[0],result[1]] = result[2]\n",
    "        \n",
    "    df = pd.DataFrame(\n",
    "        matrix,\n",
    "        columns=map(yazi_format,im_paths),\n",
    "        index=map(yazi_format,im_paths))\n",
    "    print(df)\n",
    "    \n"
   ]
  },
  {
   "cell_type": "code",
   "execution_count": 284,
   "id": "a2f3aca5",
   "metadata": {},
   "outputs": [
    {
     "name": "stdout",
     "output_type": "stream",
     "text": [
      "görseller:  image - image    mesafe: 1.0\n",
      "görseller:  image - image2    mesafe: 0.8862613628628682\n",
      "görseller:  image - image3    mesafe: 0.9570321492085606\n",
      "görseller:  image2 - image    mesafe: 0.8862613628628682\n",
      "görseller:  image2 - image2    mesafe: 1.0\n",
      "görseller:  image2 - image3    mesafe: 0.9142179872769192\n",
      "görseller:  image3 - image    mesafe: 0.9570321492085606\n",
      "görseller:  image3 - image2    mesafe: 0.9142179872769192\n",
      "görseller:  image3 - image3    mesafe: 1.0\n",
      "           image    image2    image3\n",
      "image   1.000000  0.886261  0.957032\n",
      "image2  0.886261  1.000000  0.914218\n",
      "image3  0.957032  0.914218  1.000000\n"
     ]
    }
   ],
   "source": [
    "process([\"image.jpg\",\"image2.jpg\",\"image3.jpg\"])"
   ]
  },
  {
   "cell_type": "code",
   "execution_count": null,
   "id": "efc3c463",
   "metadata": {},
   "outputs": [],
   "source": []
  },
  {
   "cell_type": "code",
   "execution_count": null,
   "id": "8e621559",
   "metadata": {},
   "outputs": [],
   "source": []
  }
 ],
 "metadata": {
  "kernelspec": {
   "display_name": "Python 3 (ipykernel)",
   "language": "python",
   "name": "python3"
  },
  "language_info": {
   "codemirror_mode": {
    "name": "ipython",
    "version": 3
   },
   "file_extension": ".py",
   "mimetype": "text/x-python",
   "name": "python",
   "nbconvert_exporter": "python",
   "pygments_lexer": "ipython3",
   "version": "3.9.16"
  }
 },
 "nbformat": 4,
 "nbformat_minor": 5
}
